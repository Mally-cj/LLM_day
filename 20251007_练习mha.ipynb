{
 "cells": [
  {
   "cell_type": "markdown",
   "id": "8db9f424",
   "metadata": {},
   "source": [
    "## 复习手写MHA\n",
    "2025-10-08 00:52:55 Wednesday\n",
    "\n",
    "- torch.max(x,dim=-1,keepdim=True) 中dim=-1的理解？\n",
    "比如x为2行3列，那么结果应该该是2*1,因为dim=-1，表示计算列中的最大值，即3列中的最大值。\n",
    "\n",
    "\n",
    "- 如何在一个维度把x分开？\n",
    "使用 _.chunk()"
   ]
  },
  {
   "cell_type": "code",
   "execution_count": 20,
   "id": "2c9c38cc",
   "metadata": {},
   "outputs": [
    {
     "name": "stderr",
     "output_type": "stream",
     "text": [
      "\u001b[38;5;247mic\u001b[39m\u001b[38;5;245m|\u001b[39m\u001b[38;5;245m \u001b[39m\u001b[38;5;247mx_max\u001b[39m\u001b[38;5;245m.\u001b[39m\u001b[38;5;247mshape\u001b[39m\u001b[38;5;245m:\u001b[39m\u001b[38;5;245m \u001b[39m\u001b[38;5;247mtorch\u001b[39m\u001b[38;5;245m.\u001b[39m\u001b[38;5;247mSize\u001b[39m\u001b[38;5;245m(\u001b[39m\u001b[38;5;245m[\u001b[39m\u001b[38;5;36m2\u001b[39m\u001b[38;5;245m,\u001b[39m\u001b[38;5;245m \u001b[39m\u001b[38;5;36m3\u001b[39m\u001b[38;5;245m]\u001b[39m\u001b[38;5;245m)\u001b[39m\n"
     ]
    },
    {
     "data": {
      "text/plain": [
       "torch.Size([2, 3])"
      ]
     },
     "execution_count": 20,
     "metadata": {},
     "output_type": "execute_result"
    }
   ],
   "source": [
    "x=torch.randn(2,3,4)\n",
    "x_max=torch.max(x,dim=-1).values\n",
    "ic(x_max.shape)"
   ]
  },
  {
   "cell_type": "code",
   "execution_count": null,
   "id": "8def6572",
   "metadata": {},
   "outputs": [
    {
     "name": "stderr",
     "output_type": "stream",
     "text": [
      "\u001b[38;5;247mic\u001b[39m\u001b[38;5;245m|\u001b[39m\u001b[38;5;245m \u001b[39m\u001b[38;5;247mqk\u001b[39m\u001b[38;5;245m.\u001b[39m\u001b[38;5;247mshape\u001b[39m\u001b[38;5;245m:\u001b[39m\u001b[38;5;245m \u001b[39m\u001b[38;5;247mtorch\u001b[39m\u001b[38;5;245m.\u001b[39m\u001b[38;5;247mSize\u001b[39m\u001b[38;5;245m(\u001b[39m\u001b[38;5;245m[\u001b[39m\u001b[38;5;36m3\u001b[39m\u001b[38;5;245m,\u001b[39m\u001b[38;5;245m \u001b[39m\u001b[38;5;36m2\u001b[39m\u001b[38;5;245m,\u001b[39m\u001b[38;5;245m \u001b[39m\u001b[38;5;36m5\u001b[39m\u001b[38;5;245m,\u001b[39m\u001b[38;5;245m \u001b[39m\u001b[38;5;36m5\u001b[39m\u001b[38;5;245m]\u001b[39m\u001b[38;5;245m)\u001b[39m\n",
      "\u001b[38;5;247mic\u001b[39m\u001b[38;5;245m|\u001b[39m\u001b[38;5;245m \u001b[39m\u001b[38;5;247mx_max\u001b[39m\u001b[38;5;245m.\u001b[39m\u001b[38;5;247mshape\u001b[39m\u001b[38;5;245m:\u001b[39m\u001b[38;5;245m \u001b[39m\u001b[38;5;247mtorch\u001b[39m\u001b[38;5;245m.\u001b[39m\u001b[38;5;247mSize\u001b[39m\u001b[38;5;245m(\u001b[39m\u001b[38;5;245m[\u001b[39m\u001b[38;5;36m3\u001b[39m\u001b[38;5;245m,\u001b[39m\u001b[38;5;245m \u001b[39m\u001b[38;5;36m2\u001b[39m\u001b[38;5;245m,\u001b[39m\u001b[38;5;245m \u001b[39m\u001b[38;5;36m5\u001b[39m\u001b[38;5;245m,\u001b[39m\u001b[38;5;245m \u001b[39m\u001b[38;5;36m1\u001b[39m\u001b[38;5;245m]\u001b[39m\u001b[38;5;245m)\u001b[39m\n",
      "\u001b[38;5;247mic\u001b[39m\u001b[38;5;245m|\u001b[39m\u001b[38;5;245m \u001b[39m\u001b[38;5;247mx0\u001b[39m\u001b[38;5;245m.\u001b[39m\u001b[38;5;247mshape\u001b[39m\u001b[38;5;245m:\u001b[39m\u001b[38;5;245m \u001b[39m\u001b[38;5;247mtorch\u001b[39m\u001b[38;5;245m.\u001b[39m\u001b[38;5;247mSize\u001b[39m\u001b[38;5;245m(\u001b[39m\u001b[38;5;245m[\u001b[39m\u001b[38;5;36m3\u001b[39m\u001b[38;5;245m,\u001b[39m\u001b[38;5;245m \u001b[39m\u001b[38;5;36m5\u001b[39m\u001b[38;5;245m,\u001b[39m\u001b[38;5;245m \u001b[39m\u001b[38;5;36m10\u001b[39m\u001b[38;5;245m]\u001b[39m\u001b[38;5;245m)\u001b[39m\n"
     ]
    },
    {
     "data": {
      "text/plain": [
       "torch.Size([3, 5, 10])"
      ]
     },
     "execution_count": 48,
     "metadata": {},
     "output_type": "execute_result"
    }
   ],
   "source": [
    "import torch\n",
    "import torch.nn as nn \n",
    "from icecream import ic\n",
    "def softmax(x):\n",
    "    x_max = torch.max(x,dim=-1,keepdim=True).values\n",
    "    ic(x_max.shape)\n",
    "    exp_x = torch.exp(x-x_max)\n",
    "    return exp_x/torch.sum(exp_x,dim=-1,keepdim=True)\n",
    "\n",
    "class mla(nn.Module):\n",
    "    def __init__(self,hidden_dim,head):\n",
    "        super().__init__()\n",
    "        self.hidden_dim=hidden_dim\n",
    "        self.head = head\n",
    "        self.qkv_proj= nn.Linear(hidden_dim,hidden_dim*3)\n",
    "    \n",
    "    def forward(self,x):\n",
    "        b,s,d=x.shape\n",
    "        h=self.head\n",
    "        d1=d//h\n",
    "        \n",
    "        assert d%self.head ==0\n",
    "        qkv=self.qkv_proj(x)\n",
    "        q,k,v=qkv.chunk(3,dim=-1)\n",
    "        \n",
    "        q= q.reshape(b,s,h,d1).transpose(1,2)\n",
    "        k= k.reshape(b,s,h,d1).transpose(1,2)\n",
    "        v= v.reshape(b,s,h,d1).transpose(1,2)\n",
    "\n",
    "        qk=torch.matmul(q,k.transpose(-1,-2))/(d1**0.5)\n",
    "        \n",
    "        ic(qk.shape)\n",
    "        qk=softmax(qk)\n",
    "\n",
    "        attention= torch.matmul(qk,v)\n",
    "        return attention.transpose(1,2).reshape(b,s,d)\n",
    "\n",
    "x=torch.rand(3,5,10)\n",
    "mla0=mla(hidden_dim=10,head=2)\n",
    "x0=mla0(x)\n",
    "ic(x0.shape)\n",
    "        \n",
    "\n",
    "\n"
   ]
  }
 ],
 "metadata": {
  "kernelspec": {
   "display_name": "trl",
   "language": "python",
   "name": "python3"
  },
  "language_info": {
   "codemirror_mode": {
    "name": "ipython",
    "version": 3
   },
   "file_extension": ".py",
   "mimetype": "text/x-python",
   "name": "python",
   "nbconvert_exporter": "python",
   "pygments_lexer": "ipython3",
   "version": "3.10.18"
  }
 },
 "nbformat": 4,
 "nbformat_minor": 5
}

{
 "cells": [
  {
   "cell_type": "markdown",
   "id": "903038aa",
   "metadata": {},
   "source": [
    "2025-10-31 14:28:49 Friday"
   ]
  },
  {
   "cell_type": "markdown",
   "id": "7bfbd427",
   "metadata": {},
   "source": [
    "\n",
    "### 1. 深拷贝和浅拷贝的区别？\n",
    "\n",
    "我会把拷贝分成三种层次来理解：赋值、浅拷贝和深拷贝。\n",
    "\n",
    "第1种，深拷贝实现就是copy.deepcopy(a)内容,它就是完全拷贝了整份内容，新容器和旧容器完全没关系。\n",
    "\n",
    "第2种，新建一个容器，原本的内容还是用旧的，当对容器内的旧元素修改时会影响到原来容器的内容，但是往这个容器新加东西如append，不会影响旧容器。\n",
    "\n",
    "第3种，就是赋值，就是换个名称，对当前容器的任何修改，还是会发生在旧容器中。\n",
    "\n",
    "代码实验的例子："
   ]
  },
  {
   "cell_type": "code",
   "execution_count": 1,
   "id": "cbacfab7",
   "metadata": {},
   "outputs": [
    {
     "name": "stdout",
     "output_type": "stream",
     "text": [
      "初始状态：\n",
      "a = [[1, 2], [3, 4]]\n",
      "b = [[1, 2], [3, 4]]\n",
      "c = [[1, 2], [3, 4]]\n",
      "\n",
      "修改外层结构 a.append(['new']) 后：\n",
      "a = [[1, 2], [3, 4], ['new']]\n",
      "b = [[1, 2], [3, 4], ['new']]\n",
      "c = [[1, 2], [3, 4]]\n",
      "\n",
      "修改内层结构 a[0][0] = 99 后：\n",
      "a = [[99, 2], [3, 4], ['new']]\n",
      "b = [[99, 2], [3, 4], ['new']]\n",
      "c = [[99, 2], [3, 4]]\n"
     ]
    }
   ],
   "source": [
    "import copy\n",
    "\n",
    "# 原始对象\n",
    "a = [[1, 2], [3, 4]]\n",
    "\n",
    "# 赋值（同一个对象）\n",
    "b = a\n",
    "\n",
    "# 浅拷贝（外层新对象）\n",
    "c = copy.copy(a)\n",
    "\n",
    "print(\"初始状态：\")\n",
    "print(\"a =\", a)\n",
    "print(\"b =\", b)\n",
    "print(\"c =\", c)\n",
    "\n",
    "# 修改外层结构\n",
    "a.append([\"new\"])\n",
    "print(\"\\n修改外层结构 a.append(['new']) 后：\")\n",
    "print(\"a =\", a)\n",
    "print(\"b =\", b)   # 跟着变！同对象\n",
    "print(\"c =\", c)   # 没变！不同外层\n",
    "\n",
    "# 修改内层结构\n",
    "a[0][0] = 99\n",
    "print(\"\\n修改内层结构 a[0][0] = 99 后：\")\n",
    "print(\"a =\", a)\n",
    "print(\"b =\", b)   # 一样，还是同对象\n",
    "print(\"c =\", c)   # 变了（内层共享）\n"
   ]
  }
 ],
 "metadata": {
  "kernelspec": {
   "display_name": "trl",
   "language": "python",
   "name": "python3"
  },
  "language_info": {
   "codemirror_mode": {
    "name": "ipython",
    "version": 3
   },
   "file_extension": ".py",
   "mimetype": "text/x-python",
   "name": "python",
   "nbconvert_exporter": "python",
   "pygments_lexer": "ipython3",
   "version": "3.10.18"
  }
 },
 "nbformat": 4,
 "nbformat_minor": 5
}

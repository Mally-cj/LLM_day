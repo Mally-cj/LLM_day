{
 "cells": [
  {
   "cell_type": "markdown",
   "id": "c78febcc",
   "metadata": {},
   "source": [
    "2025-10-17 23:57:58 Friday\n",
    "\n",
    "\n",
    "### 1.在大模型训练中，LoRA（Low-Rank Adaptation） 的原理是什么？为什么它能在保持性能的同时大幅减少参数量？"
   ]
  }
 ],
 "metadata": {
  "language_info": {
   "name": "python"
  }
 },
 "nbformat": 4,
 "nbformat_minor": 5
}

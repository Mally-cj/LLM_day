{
 "cells": [
  {
   "cell_type": "markdown",
   "id": "b7d4b00e",
   "metadata": {},
   "source": [
    "题目：'https://leetcode.cn/problems/linked-list-cycle-ii/description/'"
   ]
  },
  {
   "cell_type": "markdown",
   "id": "da47ac87",
   "metadata": {},
   "source": [
    "巧点：快慢指针第一次相遇的时候，是在慢指针还没有走完一圈环的时候。\n",
    "\n",
    "证明：\n",
    "假设非环段长度为a，环的周长为c,\n",
    "\n"
   ]
  },
  {
   "cell_type": "markdown",
   "id": "aa819ffe",
   "metadata": {},
   "source": [
    "\n",
    "![图片描述](../pic/20250925.svg \"可选：鼠标悬停时显示的标题\")"
   ]
  }
 ],
 "metadata": {
  "language_info": {
   "name": "python"
  }
 },
 "nbformat": 4,
 "nbformat_minor": 5
}

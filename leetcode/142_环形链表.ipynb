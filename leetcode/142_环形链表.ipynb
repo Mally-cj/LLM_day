{
 "cells": [
  {
   "cell_type": "markdown",
   "id": "b7d4b00e",
   "metadata": {},
   "source": [
    "题目：'https://leetcode.cn/problems/linked-list-cycle-ii/description/'"
   ]
  },
  {
   "cell_type": "markdown",
   "id": "da47ac87",
   "metadata": {},
   "source": [
    "巧点：快慢指针第一次相遇的时候，是在慢指针还没有走完一圈环的时候。\n",
    "\n",
    "证明：\n",
    "假设\n"
   ]
  },
  {
   "cell_type": "markdown",
   "id": "aa819ffe",
   "metadata": {},
   "source": [
    "# 示例标题\n",
    "这是一张用相对路径引用的图片：\n",
    "![图片描述](../pic/20250925.png \"可选：鼠标悬停时显示的标题\")"
   ]
  }
 ],
 "metadata": {
  "language_info": {
   "name": "python"
  }
 },
 "nbformat": 4,
 "nbformat_minor": 5
}

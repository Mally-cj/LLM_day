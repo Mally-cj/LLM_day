{
 "cells": [
  {
   "cell_type": "markdown",
   "id": "f6d595a5",
   "metadata": {},
   "source": [
    "### 最大子数据和（LeetCode 53）\n",
    "\n",
    "不用dp也可以做\n",
    "\n",
    "时间复杂度：$o(n)$\n",
    "\n",
    "空间复杂度：$o(n)$"
   ]
  },
  {
   "cell_type": "markdown",
   "id": "a9ffbdb9",
   "metadata": {},
   "source": []
  },
  {
   "cell_type": "markdown",
   "id": "f938b258",
   "metadata": {},
   "source": [
    "### 二叉树直径\n",
    "https://leetcode.cn/problems/diameter-of-binary-tree/description/?envType=study-plan-v2&envId=top-100-liked\n",
    "\n",
    "- **时间复杂度**：DFS遍历所有节点，`O(n)`。\n",
    "- **空间复杂度**：\n",
    "- 平均（平衡树）：`O(log n)`（递归栈深度）。\n",
    "- 最坏（链式树）：`O(n)`。\n"
   ]
  },
  {
   "cell_type": "markdown",
   "id": "198fcf35",
   "metadata": {},
   "source": [
    "### 最长回文子串\n",
    "https://leetcode.cn/problems/longest-palindromic-substring/description/?envType=study-plan-v2&envId=top-100-liked\n",
    "\n",
    "时间复杂度：$o(n^2)$\n",
    "\n",
    "空间复杂度：$o(n^2)$"
   ]
  }
 ],
 "metadata": {
  "language_info": {
   "name": "python"
  }
 },
 "nbformat": 4,
 "nbformat_minor": 5
}

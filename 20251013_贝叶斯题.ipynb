{
 "cells": [
  {
   "cell_type": "markdown",
   "id": "fe4217d9",
   "metadata": {},
   "source": [
    "## 贝叶斯公式应用题\n",
    "2025-10-13 23:56:29 Monday\n",
    "\n",
    "### 1. 下雨概率\n",
    "#### 题目\n",
    "某城市下雨概率为 $\\frac{1}{3}$，下雨时上班迟到概率为 $\\frac{1}{2}$；不下雨时上班迟到概率为 $\\frac{1}{4}$。求上班迟到时当天是雨天的概率。\n",
    "\n",
    "#### 解题思路\n",
    "设 $A$ 表示“下雨”，$B$ 表示“上班迟到”。  \n",
    "已知条件：\n",
    "- $P(A)=\\frac{1}{3}$，$P(\\overline{A})=\\frac{2}{3}$  \n",
    "- $P(B|A)=\\frac{1}{2}$，$P(B|\\overline{A})=\\frac{1}{4}$  \n",
    "\n",
    "1️⃣ **用全概率公式求 $P(B)$** : $P(B)=P(A)P(B|A)+P(\\overline{A})P(B|\\overline{A})=\\frac{1}{3}\\times\\frac{1}{2}+\\frac{2}{3}\\times\\frac{1}{4}=\\frac{1}{3}$  \n",
    "\n",
    "2️⃣ **用贝叶斯公式求 $P(A|B)$**: $P(A|B)=\\frac{P(A)P(B|A)}{P(B)}=\\frac{\\frac{1}{3}\\times\\frac{1}{2}}{\\frac{1}{3}}=\\frac{1}{2}$  \n",
    "\n",
    "#### 结论\n",
    "上班迟到时当天是雨天的概率为 $\\frac{1}{2}$。\n"
   ]
  },
  {
   "cell_type": "markdown",
   "id": "a9fb67c0",
   "metadata": {},
   "source": [
    "### 2.折绳成三段能否成三角形的概率\n",
    "\n",
    "随机在一根单位长度的绳子上独立均匀选两点切断，设排序后为 $0<x<y<1$，三段长度为\n",
    "$$a=x,\\quad b=y-x,\\quad c=1-y.$$\n",
    "\n",
    "**成三角形充要条件**：任一段长度小于另外两段之和。对总长为 $1$ 的情形，这等价于 **每段都小于 $\\tfrac12$**（若一段 $\\ge \\tfrac12$，其余两段和 $\\le \\tfrac12$，必不成三角形；反之若都 $<\\tfrac12$，三角不等式成立）。\n",
    "\n",
    "因此要求：\n",
    "$$x<\\tfrac12,\\quad y-x<\\tfrac12\\ \\Rightarrow\\ y<x+\\tfrac12,\\quad 1-y<\\tfrac12\\ \\Rightarrow\\ y>\\tfrac12.$$\n",
    "\n",
    "在单位方形 $(x,y)\\in(0,1)^2$ 且 $x<y$ 的三角区域（面积 $\\tfrac12$）内，上述可行域面积为\n",
    "$$\\int_{0}^{1/2}\\big[(x+\\tfrac12)-\\tfrac12\\big]\\;dx=\\int_{0}^{1/2}x\\,dx=\\frac{1}{8}.$$\n",
    "\n",
    "故所求概率\n",
    "$$\\mathbb{P}=\\frac{\\text{可行域面积}}{\\text{总面积}}=\\frac{1/8}{1/2}=\\frac{1}{4}.$$\n",
    "\n",
    "**答案：** $\\boxed{\\tfrac14}$。\n"
   ]
  }
 ],
 "metadata": {
  "language_info": {
   "name": "python"
  }
 },
 "nbformat": 4,
 "nbformat_minor": 5
}

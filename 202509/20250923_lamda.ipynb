{
 "cells": [
  {
   "cell_type": "markdown",
   "id": "6fd529bc",
   "metadata": {},
   "source": [
    "## lambda语法规则\n",
    "\n",
    "语法：`lambda c参数:表达式`\n",
    "\n",
    "- 参数：可以是一个或多个参数（类似普通函数的参数），多个参数用逗号分隔。\n",
    "- 表达式：函数的返回值，只能是一个表达式（不能包含循环、条件判断的多行逻辑等）。`\n",
    "\n"
   ]
  },
  {
   "cell_type": "markdown",
   "id": "5c38fc20",
   "metadata": {},
   "source": [
    "## 单参数"
   ]
  },
  {
   "cell_type": "code",
   "execution_count": 1,
   "id": "65b3fda9",
   "metadata": {},
   "outputs": [
    {
     "name": "stdout",
     "output_type": "stream",
     "text": [
      "4\n"
     ]
    }
   ],
   "source": [
    "\n",
    "square = lambda x: x**2\n",
    "print(square(2))\n"
   ]
  },
  {
   "cell_type": "markdown",
   "id": "9c139d7b",
   "metadata": {},
   "source": [
    "## 多参数"
   ]
  },
  {
   "cell_type": "code",
   "execution_count": null,
   "id": "06e666a0",
   "metadata": {},
   "outputs": [],
   "source": [
    "# 计算两个数的和\n",
    "add = lambda a, b: a + b\n",
    "\n",
    "print(add(3, 5))  # 输出：8"
   ]
  },
  {
   "cell_type": "markdown",
   "id": "05c76a23",
   "metadata": {},
   "source": [
    "### 常见场景：综合排序"
   ]
  },
  {
   "cell_type": "code",
   "execution_count": 2,
   "id": "132242a2",
   "metadata": {},
   "outputs": [
    {
     "name": "stdout",
     "output_type": "stream",
     "text": [
      "[[7, 0], [7, 1], [4, 4]]\n"
     ]
    }
   ],
   "source": [
    "people = [[7,0], [4,4], [7,1]]\n",
    "# 按身高降序（-x[0]），相同身高按 k 值升序（x[1]）\n",
    "people.sort(key=lambda x: (-x[0], x[1]))\n",
    "print(people)  # 输出：[[7,0], [7,1], [4,4]]"
   ]
  }
 ],
 "metadata": {
  "kernelspec": {
   "display_name": "trl",
   "language": "python",
   "name": "python3"
  },
  "language_info": {
   "codemirror_mode": {
    "name": "ipython",
    "version": 3
   },
   "file_extension": ".py",
   "mimetype": "text/x-python",
   "name": "python",
   "nbconvert_exporter": "python",
   "pygments_lexer": "ipython3",
   "version": "3.10.18"
  }
 },
 "nbformat": 4,
 "nbformat_minor": 5
}

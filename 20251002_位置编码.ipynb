{
 "cells": [
  {
   "cell_type": "code",
   "execution_count": null,
   "id": "780993fb",
   "metadata": {},
   "outputs": [
    {
     "name": "stdout",
     "output_type": "stream",
     "text": [
      "cos shape: torch.Size([2, 10, 16])\n",
      "sin shape: torch.Size([2, 10, 16])\n",
      "cos[0,0]: tensor([[ 0.5403,  0.9504,  0.9950,  0.9995,  0.9999,  1.0000,  1.0000,  1.0000,\n",
      "          0.5403,  0.9504,  0.9950,  0.9995,  0.9999,  1.0000,  1.0000,  1.0000],\n",
      "        [-0.4161,  0.8066,  0.9801,  0.9980,  0.9998,  1.0000,  1.0000,  1.0000,\n",
      "         -0.4161,  0.8066,  0.9801,  0.9980,  0.9998,  1.0000,  1.0000,  1.0000],\n",
      "        [-0.9900,  0.5828,  0.9553,  0.9955,  0.9996,  1.0000,  1.0000,  1.0000,\n",
      "         -0.9900,  0.5828,  0.9553,  0.9955,  0.9996,  1.0000,  1.0000,  1.0000]])\n"
     ]
    }
   ],
   "source": [
    "import torch\n",
    "import torch.nn as nn\n",
    "\n",
    "# 模拟 LLaMA 的配置\n",
    "class DummyConfig:\n",
    "    hidden_size = 16\n",
    "    max_position_embeddings = 128\n",
    "    rope_scaling = None\n",
    "\n",
    "# 简化版 RoPE 初始化函数\n",
    "def simple_rope_init_fn(config, device=None):\n",
    "    dim = config.hidden_size // 2\n",
    "    inv_freq = 1.0 / (10000 ** (torch.arange(0, dim, device=device).float() / dim))\n",
    "    return inv_freq, 1.0\n",
    "\n",
    "ROPE_INIT_FUNCTIONS = {\"default\": simple_rope_init_fn}\n",
    "\n",
    "\n",
    "class LlamaRotaryEmbedding(nn.Module):\n",
    "    def __init__(self, config, device=None):\n",
    "        super().__init__()\n",
    "        self.config = config\n",
    "        self.rope_init_fn = ROPE_INIT_FUNCTIONS[\"default\"]\n",
    "        inv_freq, self.attention_scaling = self.rope_init_fn(self.config, device)\n",
    "        self.register_buffer(\"inv_freq\", inv_freq, persistent=False)\n",
    "\n",
    "    def forward(self, x, position_ids):\n",
    "        inv_freq_expanded = self.inv_freq[None, :, None].expand(position_ids.shape[0], -1, 1)\n",
    "        position_ids_expanded = position_ids[:, None, :].float()\n",
    "        freqs = (inv_freq_expanded @ position_ids_expanded).transpose(1, 2)\n",
    "        emb = torch.cat((freqs, freqs), dim=-1)\n",
    "        cos = emb.cos()\n",
    "        sin = emb.sin()\n",
    "        return cos.to(dtype=x.dtype), sin.to(dtype=x.dtype)\n",
    "\n",
    "# ------------------------\n",
    "# 测试\n",
    "# ------------------------\n",
    "config = DummyConfig()\n",
    "rope = LlamaRotaryEmbedding(config)\n",
    "\n",
    "batch, seq_len, hidden = 2, 10, config.hidden_size\n",
    "x = torch.randn(batch, seq_len, hidden)  # 模拟输入\n",
    "position_ids = torch.arange(seq_len).unsqueeze(0).repeat(batch, 1)  # 位置 [0,1,2,...]\n",
    "\n",
    "cos, sin = rope(x, position_ids)\n",
    "\n",
    "print(\"cos shape:\", cos.shape)  # [batch, seq_len, hidden]\n",
    "print(\"sin shape:\", sin.shape)\n",
    "print(\"cos[0,0]:\", cos[0,1:4])  # 打印第一个 token 的 cos 编码\n"
   ]
  }
 ],
 "metadata": {
  "kernelspec": {
   "display_name": "trl",
   "language": "python",
   "name": "python3"
  },
  "language_info": {
   "codemirror_mode": {
    "name": "ipython",
    "version": 3
   },
   "file_extension": ".py",
   "mimetype": "text/x-python",
   "name": "python",
   "nbconvert_exporter": "python",
   "pygments_lexer": "ipython3",
   "version": "3.10.18"
  }
 },
 "nbformat": 4,
 "nbformat_minor": 5
}

{
 "cells": [
  {
   "cell_type": "markdown",
   "id": "d3fcb285",
   "metadata": {},
   "source": [
    "## 什么是clip模型"
   ]
  },
  {
   "cell_type": "markdown",
   "id": "0dd2ae75",
   "metadata": {},
   "source": [
    "CLIP（Contrastive Language–Image Pretraining）是一个图文匹配模型。给定一张图片和若干候选文本，CLIP 能找到最匹配的文本；反之也可以用文本检索相关图片。\n",
    "它的训练原理是，通过学习将匹配的图像-文本对映射到相近的向量空间，使正样本对的相似度最大化、负样本对的相似度最小化。\n",
    "\n",
    "### 训练流程要点\n",
    "1. 数据准备：构建大量的图像-文本对（每张图片对应一条或多条描述）。  \n",
    "2. 两路编码器：使用图像编码器（如 CNN 或 ViT）将图片编码为向量；使用文本编码器（如 Transformer）将文本编码为向量。  \n",
    "3. 归一化：对图像和文本向量做 L2 归一化（映射到单位球面）。  \n",
    "4. 相似度计算：计算图像向量与文本向量之间的点积（或余弦相似度）得到相似度矩阵。  \n",
    "5. 对比学习损失：使用双向交叉熵损失（image-to-text 与 text-to-image），将对应的正样本对标记为目标，最大化正样本 logits，最小化负样本 logits。通常将两者取平均作为最终损失。  \n",
    "\n",
    "训练的核心代码如下\n"
   ]
  },
  {
   "cell_type": "code",
   "execution_count": 1,
   "id": "9e6ab5f4",
   "metadata": {},
   "outputs": [],
   "source": [
    "import torch\n",
    "import torch.nn.functional as F\n",
    "\n",
    "# 图像和文本的随机嵌入 (作为示例)\n",
    "batch_size = 4  # 假设 batch size 为 4\n",
    "embedding_dim = 512  # 假设嵌入向量的维度为 512\n",
    "\n",
    "image_embeddings = torch.randn(batch_size, embedding_dim) # 图像嵌入\n",
    "text_embeddings = torch.randn(batch_size, embedding_dim)   # 文本嵌入\n",
    "\n",
    "# 正则化嵌入向量 (归一化到单位球面)\n",
    "image_embeddings = F.normalize(image_embeddings, p=2, dim=-1)\n",
    "text_embeddings = F.normalize(text_embeddings, p=2, dim=-1)\n",
    "\n",
    "# 计算相似性矩阵 (logits)\n",
    "logits_per_image = torch.matmul(image_embeddings, text_embeddings.T)  # 图像对文本的相似度\n",
    "logits_per_text = torch.matmul(text_embeddings, image_embeddings.T)  # 文本对图像的相似度\n",
    "\n",
    "# 标签 (正样本是对角线，负样本是非对角线)\n",
    "labels = torch.arange(batch_size)  # [0, 1, 2, 3]\n",
    "\n",
    "# 交叉熵损失\n",
    "image_loss = F.cross_entropy(logits_per_image, labels)\n",
    "text_loss = F.cross_entropy(logits_per_text, labels)\n",
    "loss = (image_loss + text_loss) / 2  # 对称损失\n",
    "\n",
    "# 反向传播和优化\n",
    "# loss.backward()\n"
   ]
  }
 ],
 "metadata": {
  "kernelspec": {
   "display_name": "trl",
   "language": "python",
   "name": "python3"
  },
  "language_info": {
   "codemirror_mode": {
    "name": "ipython",
    "version": 3
   },
   "file_extension": ".py",
   "mimetype": "text/x-python",
   "name": "python",
   "nbconvert_exporter": "python",
   "pygments_lexer": "ipython3",
   "version": "3.10.18"
  }
 },
 "nbformat": 4,
 "nbformat_minor": 5
}

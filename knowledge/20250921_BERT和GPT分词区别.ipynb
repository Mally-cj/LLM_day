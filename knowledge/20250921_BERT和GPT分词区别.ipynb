{
 "cells": [
  {
   "cell_type": "markdown",
   "id": "71d1c234",
   "metadata": {},
   "source": [
    "## 1.BERT 和 Decoder-only 模型（如 GPT、LLaMA）的分词算法有什么区别？\n",
    "\n",
    "\n",
    "BERT 采用 WordPiece 分词算法，非首段子词会添加 ## 前缀以标记拼接关系，且会在输入中插入 [CLS]（句首分类标记）和 [SEP]（句子分隔标记）这两个人工定义的特殊功能符号；GPT-1/2/3 采用 BPE 分词算法，LLaMA 采用 Byte-level BPE 分词算法，二者子词均无额外前缀、呈独立形式，且主要使用 <|endoftext|>（文本结束标记）作为核心特殊符号。\n",
    "\n"
   ]
  },
  {
   "cell_type": "markdown",
   "id": "e4dc2bb0",
   "metadata": {},
   "source": [
    "#### **2. WordPiece和BPE的关键区别对比**\n",
    "| **对比维度**| **WordPiece (BERT)**| **BPE (GPT/LLaMA)**|\n",
    "|--------------------|-----------------------------------------------|----------------------------------------------|\n",
    "| **子词标记**| 子词带 `##` 前缀（如 `\"playing\" → [\"play\", \"##ing\"]`） | 无前缀，子词独立（如 `\"playing\" → [\"play\", \"ing\"]`） |\n",
    "| **合并策略**| 基于互信息分数（合并后更像合理词）| 基于频率（合并高频共现对）|\n",
    "| **特殊标记**| `[CLS]`, `[SEP]`, `[MASK]`（服务于 MLM 和句子对任务） | `<|endoftext|>`（控制生成边界）|\n",
    "| **空格处理**| 忽略或标准化| 显式编码（如 `Ġ` 或 `▁`）|\n"
   ]
  },
  {
   "cell_type": "markdown",
   "id": "1b8836e4",
   "metadata": {},
   "source": [
    "#### **3. 合并策略公式与示例**\n",
    "**WordPiece 是谁组合后更像一个\"合理词\"就合并谁， 互信息计算公式为**：\n",
    "$$\n",
    "\\text{score}(A, B) = \\frac{\\text{freq}(A,B)}{\\text{freq}(A) \\cdot \\text{freq}(B)}\n",
    "$$\n",
    "- **例子**：\n",
    "- 若 `freq(un)=50`, `freq(happy)=20`, `freq(h)=500`：\n",
    "- `\"un\"+\"happy\"` 分数：`100/(50×20) = 0.1`\n",
    "- `\"un\"+\"h\"` 分数：`200/(50×500) = 0.008`\n",
    "- **合并结果**：优先合并 `\"unhappy\"`（分数更高）。\n",
    "\n",
    "**BPE 是谁出现多就合并谁，依据频率合并**：\n",
    "- **例子**：\n",
    "- `\"un\"+\"h\"` 出现 200 次，`\"un\"+\"happy\"` 出现 100 次 → 合并 `\"unh\"`。"
   ]
  },
  {
   "cell_type": "markdown",
   "id": "5ef21521",
   "metadata": {},
   "source": [
    "\n",
    "#### **4. 特殊标记的用途**\n",
    "- **BERT 的特殊标记**：\n",
    "    - `[CLS]`：分类任务中汇总序列信息。\n",
    "    - `[SEP]`：分隔句子对（如问答任务）。\n",
    "    - `[MASK]`：预训练时随机遮盖 Token。\n",
    "    - **影响**：分词器必须支持这些标记，否则无法正常训练/推理。\n",
    "\n",
    "\n",
    "\n",
    "- **Decoder-only 的特殊标记**：\n",
    "    - `<|endoftext|>`：标记文本边界，控制生成终止。\n",
    "    - **影响**：生成时必须正确处理该标记，否则输出会无限延续。\n",
    "\n",
    "---"
   ]
  },
  {
   "cell_type": "markdown",
   "id": "862fb7ca",
   "metadata": {},
   "source": [
    "### 5.代码对比区别"
   ]
  },
  {
   "cell_type": "markdown",
   "id": "a4ae6b44",
   "metadata": {},
   "source": [
    "#### bert的分词结果"
   ]
  },
  {
   "cell_type": "code",
   "execution_count": 10,
   "id": "0034aea9",
   "metadata": {},
   "outputs": [
    {
     "name": "stdout",
     "output_type": "stream",
     "text": [
      "input_ids: tensor([[ 101, 7592, 2088,  999,  102]])\n",
      "tokens: ['[CLS]', 'hello', 'world', '!', '[SEP]']\n",
      "input_ids: tensor([[ 101, 4895, 3270, 9397, 9961,  102]])\n",
      "tokens: ['[CLS]', 'un', '##ha', '##pp', '##iness', '[SEP]']\n"
     ]
    }
   ],
   "source": [
    "from transformers import BertTokenizer\n",
    "\n",
    "def wordpiece_tokenize(text):\n",
    "    tokenizer = BertTokenizer.from_pretrained(\"bert-base-uncased\")\n",
    "\n",
    "    inputs = tokenizer(text, return_tensors=\"pt\")\n",
    "\n",
    "    # 打印输入的token ID\n",
    "    print(\"input_ids:\", inputs[\"input_ids\"])\n",
    "\n",
    "    # 将token ID转换为对应的文本标记，直观查看特殊符号\n",
    "    tokens = tokenizer.convert_ids_to_tokens(inputs[\"input_ids\"][0])\n",
    "    print(\"tokens:\", tokens)\n",
    "\n",
    "\n",
    "text = \"Hello world!\"\n",
    "wordpiece_tokenize(text)\n",
    "\n",
    "text = \"unhappiness\"\n",
    "wordpiece_tokenize(text)\n"
   ]
  },
  {
   "cell_type": "markdown",
   "id": "57ed4598",
   "metadata": {},
   "source": [
    "#### gpt2的分词结果"
   ]
  },
  {
   "cell_type": "code",
   "execution_count": 14,
   "id": "70b9438e",
   "metadata": {},
   "outputs": [
    {
     "name": "stdout",
     "output_type": "stream",
     "text": [
      "input_ids: tensor([[15496,   995,     0]])\n",
      "tokens: ['Hello', 'Ġworld', '!']\n",
      "input_ids: tensor([[  403,    71, 42661]])\n",
      "tokens: ['un', 'h', 'appiness']\n"
     ]
    }
   ],
   "source": [
    "from transformers import GPT2Tokenizer\n",
    "\n",
    "def gpt2_tokenize(text):\n",
    "    tokenizer = GPT2Tokenizer.from_pretrained(\"gpt2\")\n",
    "    \n",
    "    inputs = tokenizer(text, return_tensors=\"pt\")\n",
    "    \n",
    "    # 打印输入的token ID\n",
    "    print(\"input_ids:\", inputs[\"input_ids\"])\n",
    "    \n",
    "    # 将token ID转换为对应的文本标记\n",
    "    tokens = tokenizer.convert_ids_to_tokens(inputs[\"input_ids\"][0])\n",
    "    print(\"tokens:\", tokens)\n",
    "\n",
    "\n",
    "text = \"Hello world!\"\n",
    "gpt2_tokenize(text)\n",
    "\n",
    "text = \"unhappiness\"\n",
    "gpt2_tokenize(text)\n"
   ]
  },
  {
   "cell_type": "markdown",
   "id": "ebe9220e",
   "metadata": {},
   "source": [
    "#### llama的分词结果"
   ]
  },
  {
   "cell_type": "code",
   "execution_count": 15,
   "id": "22c945d7",
   "metadata": {},
   "outputs": [
    {
     "name": "stdout",
     "output_type": "stream",
     "text": [
      "input_ids: tensor([[    1, 16644,   924, 31905]])\n",
      "tokens: ['<s>', '▁Hello', '▁world', '!']\n",
      "input_ids: tensor([[    1, 16640,  1323,   919]])\n",
      "tokens: ['<s>', '▁unh', 'app', 'iness']\n"
     ]
    }
   ],
   "source": [
    "from transformers import AutoTokenizer\n",
    "\n",
    "def llama_tokenize(text):\n",
    "    # 使用小型LLaMA模型的分词器\n",
    "    tokenizer = AutoTokenizer.from_pretrained(\"openlm-research/open_llama_3b\")\n",
    "    \n",
    "    inputs = tokenizer(text, return_tensors=\"pt\")\n",
    "    \n",
    "    # 打印输入的token ID\n",
    "    print(\"input_ids:\", inputs[\"input_ids\"])\n",
    "    \n",
    "    # 将token ID转换为对应的文本标记\n",
    "    tokens = tokenizer.convert_ids_to_tokens(inputs[\"input_ids\"][0])\n",
    "    print(\"tokens:\", tokens)\n",
    "\n",
    "\n",
    "text = \"Hello world!\"\n",
    "llama_tokenize(text)\n",
    "\n",
    "text = \"unhappiness\"\n",
    "llama_tokenize(text)\n"
   ]
  }
 ],
 "metadata": {
  "kernelspec": {
   "display_name": "llamafactory",
   "language": "python",
   "name": "python3"
  },
  "language_info": {
   "codemirror_mode": {
    "name": "ipython",
    "version": 3
   },
   "file_extension": ".py",
   "mimetype": "text/x-python",
   "name": "python",
   "nbconvert_exporter": "python",
   "pygments_lexer": "ipython3",
   "version": "3.10.18"
  }
 },
 "nbformat": 4,
 "nbformat_minor": 5
}
